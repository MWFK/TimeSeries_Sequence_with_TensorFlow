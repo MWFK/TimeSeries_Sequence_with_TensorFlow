{
  "nbformat": 4,
  "nbformat_minor": 0,
  "metadata": {
    "colab": {
      "name": "0- One/Multi-Step Uni/Multi-Variate .ipynb",
      "provenance": [],
      "authorship_tag": "ABX9TyOawmmenYh7QT1a1YXbxPzj",
      "include_colab_link": true
    },
    "kernelspec": {
      "name": "python3",
      "display_name": "Python 3"
    },
    "language_info": {
      "name": "python"
    }
  },
  "cells": [
    {
      "cell_type": "markdown",
      "metadata": {
        "id": "view-in-github",
        "colab_type": "text"
      },
      "source": [
        "<a href=\"https://colab.research.google.com/github/MWFK/TimeSeries_Sequence_with_TensorFlow/blob/main/0-%20One/Multi-Step%20Uni/Multi-Variate%20Forecasting.ipynb\" target=\"_parent\"><img src=\"https://colab.research.google.com/assets/colab-badge.svg\" alt=\"Open In Colab\"/></a>"
      ]
    },
    {
      "cell_type": "markdown",
      "metadata": {
        "id": "SNQSu7Uz_uAw"
      },
      "source": [
        "# Source\n",
        "https://machinelearningmastery.com/convert-time-series-supervised-learning-problem-python/"
      ]
    },
    {
      "cell_type": "markdown",
      "metadata": {
        "id": "PT37L_mv_3-A"
      },
      "source": [
        "# Intro\n",
        "Before machine learning can be used, time series forecasting problems must be re-framed as supervised learning problems. From a sequence to pairs of input and output sequences.\n",
        "\n",
        "Transform univariate and multivariate time series forecasting problems into supervised learning problems for use with machine learning algorithms.\n",
        "\n",
        "Technically, in time series forecasting terminology the current time (t) and future times (t+1, t+n) are forecast times and past observations (t-1, t-n) are used to make forecasts."
      ]
    },
    {
      "cell_type": "markdown",
      "metadata": {
        "id": "NG7NaDU-Ae7o"
      },
      "source": [
        "# Pandas shift() Function\n",
        "\n",
        "The shift function also works on so-called multivariate time series problems. That is where instead of having one set of observations for a time series, we have multiple (e.g. temperature and pressure). All variates in the time series can be shifted forward or backward to create multivariate input and output sequences. We will explore this more later in the tutorial."
      ]
    },
    {
      "cell_type": "code",
      "metadata": {
        "colab": {
          "base_uri": "https://localhost:8080/"
        },
        "id": "YfJdJPiZ_Tds",
        "outputId": "b97f9665-332e-4dfa-a050-d23d11db29a4"
      },
      "source": [
        "# Past\n",
        "from pandas import DataFrame\n",
        "df = DataFrame()\n",
        "df['t'] = [x for x in range(10)]\n",
        "df['t-1'] = df['t'].shift(1)\n",
        "print(df)"
      ],
      "execution_count": 3,
      "outputs": [
        {
          "output_type": "stream",
          "name": "stdout",
          "text": [
            "   t  t-1\n",
            "0  0  NaN\n",
            "1  1  0.0\n",
            "2  2  1.0\n",
            "3  3  2.0\n",
            "4  4  3.0\n",
            "5  5  4.0\n",
            "6  6  5.0\n",
            "7  7  6.0\n",
            "8  8  7.0\n",
            "9  9  8.0\n"
          ]
        }
      ]
    },
    {
      "cell_type": "code",
      "metadata": {
        "colab": {
          "base_uri": "https://localhost:8080/"
        },
        "id": "b8fii43mAj9O",
        "outputId": "8beec111-8d79-4801-cea0-62c1112ef2af"
      },
      "source": [
        "# Future\n",
        "from pandas import DataFrame\n",
        "df = DataFrame()\n",
        "df['t'] = [x for x in range(10)]\n",
        "df['t+1'] = df['t'].shift(-1)\n",
        "print(df)"
      ],
      "execution_count": 4,
      "outputs": [
        {
          "output_type": "stream",
          "name": "stdout",
          "text": [
            "   t  t+1\n",
            "0  0  1.0\n",
            "1  1  2.0\n",
            "2  2  3.0\n",
            "3  3  4.0\n",
            "4  4  5.0\n",
            "5  5  6.0\n",
            "6  6  7.0\n",
            "7  7  8.0\n",
            "8  8  9.0\n",
            "9  9  NaN\n"
          ]
        }
      ]
    },
    {
      "cell_type": "markdown",
      "metadata": {
        "id": "9lefo02IB-ku"
      },
      "source": [
        "# The series_to_supervised() Function\n",
        "\n",
        "In this section, we will define a new Python function named series_to_supervised() that takes a univariate or multivariate time series and frames it as a supervised learning dataset.\n",
        "\n",
        "The function takes four arguments:\n",
        "\n",
        "    data: Sequence of observations as a list or 2D NumPy array. Required.\n",
        "    n_in: Number of lag observations as input (X). Values may be between [1..len(data)] Optional. Defaults to 1.\n",
        "    n_out: Number of observations as output (y). Values may be between [0..len(data)-1]. Optional. Defaults to 1.\n",
        "    dropnan: Boolean whether or not to drop rows with NaN values. Optional. Defaults to True.\n",
        "\n",
        "The function returns a single value:\n",
        "\n",
        "    return: Pandas DataFrame of series framed for supervised learning.\n",
        "\n",
        "The new dataset is constructed as a DataFrame, with each column suitably named both by variable number and time step. This allows you to design a variety of different time step sequence type forecasting problems from a given univariate or multivariate time series.\n",
        "\n",
        "Once the DataFrame is returned, you can decide how to split the rows of the returned DataFrame into X and y components for supervised learning any way you wish.\n",
        "\n",
        "The function is defined with default parameters so that if you call it with just your data, it will construct a DataFrame with t-1 as X and t as y."
      ]
    },
    {
      "cell_type": "code",
      "metadata": {
        "id": "A0wew9qlA2Tb"
      },
      "source": [
        "from pandas import DataFrame\n",
        "from pandas import concat\n",
        "\n",
        "def series_to_supervised(data, n_in=1, n_out=1, dropnan=True):\n",
        "  \n",
        "\t\"\"\"\n",
        "\tFrame a time series as a supervised learning dataset.\n",
        "\tArguments:\n",
        "\t\tdata: Sequence of observations as a list or NumPy array.\n",
        "\t\tn_in: Number of lag observations as input (X).\n",
        "\t\tn_out: Number of observations as output (y).\n",
        "\t\tdropnan: Boolean whether or not to drop rows with NaN values.\n",
        "\tReturns:\n",
        "\t\tPandas DataFrame of series framed for supervised learning.\n",
        "\t\"\"\"\n",
        "\n",
        "\tn_vars = 1 if type(data) is list else data.shape[1]\n",
        "\tdf = DataFrame(data)\n",
        "\tcols, names = list(), list()\n",
        " \n",
        "  # increment the sequence with 3 (default is 1)\n",
        "  # create the list of columns and their names with input sequence(t-n, ... t-1)\n",
        "\tfor i in range(n_in, 0, -1):\n",
        "\t\tcols.append(df.shift(i))\n",
        "\t\tnames += [('var%d(t-%d)' % (j+1, i)) for j in range(n_vars)]\n",
        "\n",
        "\t# forecast sequence (t, t+1, ... t+n)\n",
        "\tfor i in range(0, n_out):\n",
        "\t\tcols.append(df.shift(-i))\n",
        "\t\tif i == 0:\n",
        "\t\t\tnames += [('var%d(t)' % (j+1)) for j in range(n_vars)]\n",
        "\t\telse:\n",
        "\t\t\tnames += [('var%d(t+%d)' % (j+1, i)) for j in range(n_vars)]\n",
        "\n",
        "\t# put it all together\n",
        "\tagg = concat(cols, axis=1)\n",
        "\tagg.columns = names\n",
        "\n",
        "\t# drop rows with NaN values\n",
        "\tif dropnan:\n",
        "\t\tagg.dropna(inplace=True)\n",
        "  \n",
        "\treturn agg"
      ],
      "execution_count": 5,
      "outputs": []
    },
    {
      "cell_type": "markdown",
      "metadata": {
        "id": "D5EpsGk7Jm4B"
      },
      "source": [
        "# One-Step Univariate Forecasting\n",
        "\n",
        "It is standard practice in time series forecasting to use lagged observations (e.g. t-1) as input variables to forecast the current time step (t).\n",
        "\n",
        "We can see that the observations are named “var1” and that the input observation is suitably named (t-1) and the output time step is named (t)."
      ]
    },
    {
      "cell_type": "code",
      "metadata": {
        "colab": {
          "base_uri": "https://localhost:8080/"
        },
        "id": "ZcSCiM8_DLcw",
        "outputId": "9e9a40fd-aa15-415d-e751-9332c4b1dc63"
      },
      "source": [
        "values = [x for x in range(10)]\n",
        "data_1 = series_to_supervised(values)\n",
        "print(data_1)\n",
        "data_3 = series_to_supervised(values, 3)\n",
        "print(data_3)"
      ],
      "execution_count": 7,
      "outputs": [
        {
          "output_type": "stream",
          "name": "stdout",
          "text": [
            "   var1(t-1)  var1(t)\n",
            "1        0.0        1\n",
            "2        1.0        2\n",
            "3        2.0        3\n",
            "4        3.0        4\n",
            "5        4.0        5\n",
            "6        5.0        6\n",
            "7        6.0        7\n",
            "8        7.0        8\n",
            "9        8.0        9\n",
            "   var1(t-3)  var1(t-2)  var1(t-1)  var1(t)\n",
            "3        0.0        1.0        2.0        3\n",
            "4        1.0        2.0        3.0        4\n",
            "5        2.0        3.0        4.0        5\n",
            "6        3.0        4.0        5.0        6\n",
            "7        4.0        5.0        6.0        7\n",
            "8        5.0        6.0        7.0        8\n",
            "9        6.0        7.0        8.0        9\n"
          ]
        }
      ]
    },
    {
      "cell_type": "markdown",
      "metadata": {
        "id": "xKRjp3lsMqm7"
      },
      "source": [
        "# Multi-Step or Sequence Forecasting\n",
        "\n",
        "A different type of forecasting problem is using past observations to forecast a sequence of future observations.\n",
        "\n",
        "For example, we could frame a forecast problem with an input sequence of 2 past observations to forecast 2 future observations."
      ]
    },
    {
      "cell_type": "code",
      "metadata": {
        "colab": {
          "base_uri": "https://localhost:8080/"
        },
        "id": "nf1u_CwPIrgh",
        "outputId": "b54a740b-8dd4-485a-fd11-6fe9818da09d"
      },
      "source": [
        "values = [x for x in range(10)]\n",
        "data = series_to_supervised(values, 2, 2)\n",
        "print(data)"
      ],
      "execution_count": 8,
      "outputs": [
        {
          "output_type": "stream",
          "name": "stdout",
          "text": [
            "   var1(t-2)  var1(t-1)  var1(t)  var1(t+1)\n",
            "2        0.0        1.0        2        3.0\n",
            "3        1.0        2.0        3        4.0\n",
            "4        2.0        3.0        4        5.0\n",
            "5        3.0        4.0        5        6.0\n",
            "6        4.0        5.0        6        7.0\n",
            "7        5.0        6.0        7        8.0\n",
            "8        6.0        7.0        8        9.0\n"
          ]
        }
      ]
    },
    {
      "cell_type": "markdown",
      "metadata": {
        "id": "Ehd--vLhPRfw"
      },
      "source": [
        "# Multivariate Forecasting\n",
        "\n",
        "This is where we may have observations of multiple different measures and an interest in forecasting one or more of them.\n",
        "\n",
        "For example, we may have two sets of time series observations obs1 and obs2 and we wish to forecast one or both of these."
      ]
    },
    {
      "cell_type": "code",
      "metadata": {
        "colab": {
          "base_uri": "https://localhost:8080/"
        },
        "id": "OxLKUZd8OIET",
        "outputId": "6ef094cb-0f14-45e9-ec27-9cef0f7eefa4"
      },
      "source": [
        "raw = DataFrame()\n",
        "raw['ob1'] = [x for x in range(10)]\n",
        "raw['ob2'] = [x for x in range(50, 60)]\n",
        "values = raw.values\n",
        "print(values)\n",
        "data = series_to_supervised(values, 1, 2)\n",
        "print(data)"
      ],
      "execution_count": 9,
      "outputs": [
        {
          "output_type": "stream",
          "name": "stdout",
          "text": [
            "[[ 0 50]\n",
            " [ 1 51]\n",
            " [ 2 52]\n",
            " [ 3 53]\n",
            " [ 4 54]\n",
            " [ 5 55]\n",
            " [ 6 56]\n",
            " [ 7 57]\n",
            " [ 8 58]\n",
            " [ 9 59]]\n",
            "   var1(t-1)  var2(t-1)  var1(t)  var2(t)  var1(t+1)  var2(t+1)\n",
            "1        0.0       50.0        1       51        2.0       52.0\n",
            "2        1.0       51.0        2       52        3.0       53.0\n",
            "3        2.0       52.0        3       53        4.0       54.0\n",
            "4        3.0       53.0        4       54        5.0       55.0\n",
            "5        4.0       54.0        5       55        6.0       56.0\n",
            "6        5.0       55.0        6       56        7.0       57.0\n",
            "7        6.0       56.0        7       57        8.0       58.0\n",
            "8        7.0       57.0        8       58        9.0       59.0\n"
          ]
        }
      ]
    }
  ]
}