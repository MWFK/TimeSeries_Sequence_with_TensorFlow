{
  "nbformat": 4,
  "nbformat_minor": 0,
  "metadata": {
    "colab": {
      "name": "Multi-Output Regression.ipynb",
      "provenance": [],
      "authorship_tag": "ABX9TyMO1wH2awK/aU2b+fdcuKvm",
      "include_colab_link": true
    },
    "kernelspec": {
      "name": "python3",
      "display_name": "Python 3"
    },
    "language_info": {
      "name": "python"
    }
  },
  "cells": [
    {
      "cell_type": "markdown",
      "metadata": {
        "id": "view-in-github",
        "colab_type": "text"
      },
      "source": [
        "<a href=\"https://colab.research.google.com/github/MWFK/TimeSeries_Sequence_with_TensorFlow/blob/main/6-%20Multi_Output_Regression.ipynb\" target=\"_parent\"><img src=\"https://colab.research.google.com/assets/colab-badge.svg\" alt=\"Open In Colab\"/></a>"
      ]
    },
    {
      "cell_type": "markdown",
      "metadata": {
        "id": "VpbwoPLiW2ZZ"
      },
      "source": [
        "# Source\n",
        "https://machinelearningmastery.com/deep-learning-models-for-multi-output-regression/"
      ]
    },
    {
      "cell_type": "markdown",
      "metadata": {
        "id": "-UIuOCBsXTU-"
      },
      "source": [
        "# Intro\n",
        "\n",
        "Unlike normal regression where a single value is predicted for each sample, multi-output regression requires specialized machine learning algorithms that support outputting multiple variables for each prediction.\n",
        "\n",
        "Multi-output regression is a predictive modeling task that involves two or more numerical output variables.\n",
        "\n",
        "Popular examples are decision trees and ensembles of decision trees. A limitation of decision trees for multi-output regression is that the relationships between inputs and outputs can be blocky or highly structured based on the training data.\n",
        "\n",
        "Multi-output regression can be supported directly by neural networks simply by specifying the number of target variables there are in the problem as the number of nodes in the output layer. For example, a task that has three output variables will require a neural network output layer with three nodes in the output layer, each with the linear (default) activation function.\n",
        "\n",
        "Additionally, it is good practice to use k-fold cross-validation instead of train/test splits of a dataset to get an unbiased estimate of model performance when making predictions on new data. Again, only if there is not too much data and the process can be completed in a reasonable time."
      ]
    },
    {
      "cell_type": "markdown",
      "metadata": {
        "id": "nKuUaJuRaZ6T"
      },
      "source": [
        "# Modeling"
      ]
    },
    {
      "cell_type": "code",
      "metadata": {
        "colab": {
          "base_uri": "https://localhost:8080/"
        },
        "id": "fstM3H4TYuQ7",
        "outputId": "f2f30c2e-3814-4e86-f9b5-771b786dc822"
      },
      "source": [
        "# use mlp for prediction on multi-output regression\n",
        "from numpy import asarray\n",
        "from sklearn.datasets import make_regression\n",
        "from keras.models import Sequential\n",
        "from keras.layers import Dense\n",
        "\n",
        "# get the dataset\n",
        "def get_dataset():\n",
        "\tX, y = make_regression(n_samples=1000, n_features=10, n_informative=5, n_targets=3, random_state=2)\n",
        "\treturn X, y\n",
        "\n",
        "# get the model\n",
        "def get_model(n_inputs, n_outputs):\n",
        "\tmodel = Sequential()\n",
        "\tmodel.add(Dense(20, input_dim=n_inputs, kernel_initializer='he_uniform', activation='relu'))\n",
        "\tmodel.add(Dense(n_outputs, kernel_initializer='he_uniform'))\n",
        "\tmodel.compile(loss='mae', optimizer='adam')\n",
        "\treturn model\n",
        "\n",
        "# load dataset\n",
        "X, y = get_dataset()\n",
        "print('X shape ', X.shape)\n",
        "print('y shape ', y.shape)\n",
        "n_inputs, n_outputs = X.shape[1], y.shape[1]\n",
        "# get model\n",
        "model = get_model(n_inputs, n_outputs)\n",
        "# fit the model on all data\n",
        "model.fit(X, y, verbose=0, epochs=100)\n",
        "# make a prediction for new data\n",
        "row = [-0.99859353,2.19284309,-0.42632569,-0.21043258,-1.13655612,-0.55671602,-0.63169045,-0.87625098,-0.99445578,-0.3677487]\n",
        "newX = asarray([row])\n",
        "print('row shape ', newX.shape)\n",
        "yhat = model.predict(newX)\n",
        "print('Predicted: %s' % yhat[0])"
      ],
      "execution_count": 5,
      "outputs": [
        {
          "output_type": "stream",
          "text": [
            "X shape  (1000, 10)\n",
            "y shape  (1000, 3)\n",
            "row shape  (1, 10)\n",
            "Predicted: [-145.62938  -84.59892  -91.96749]\n"
          ],
          "name": "stdout"
        }
      ]
    }
  ]
}